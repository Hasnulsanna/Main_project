{
  "nbformat": 4,
  "nbformat_minor": 0,
  "metadata": {
    "colab": {
      "provenance": [],
      "gpuType": "T4",
      "mount_file_id": "1oXBRpwWbn01TFXXwtlCdq14-H4PXto5a",
      "authorship_tag": "ABX9TyPXB1b5n83e0yTMYif/ebk7",
      "include_colab_link": true
    },
    "kernelspec": {
      "name": "python3",
      "display_name": "Python 3"
    },
    "language_info": {
      "name": "python"
    },
    "accelerator": "GPU"
  },
  "cells": [
    {
      "cell_type": "markdown",
      "metadata": {
        "id": "view-in-github",
        "colab_type": "text"
      },
      "source": [
        "<a href=\"https://colab.research.google.com/github/Hasnulsanna/Main_project/blob/main/Lipreading.ipynb\" target=\"_parent\"><img src=\"https://colab.research.google.com/assets/colab-badge.svg\" alt=\"Open In Colab\"/></a>"
      ]
    },
    {
      "cell_type": "code",
      "execution_count": 106,
      "metadata": {
        "id": "DIf6tLLh2ID4"
      },
      "outputs": [],
      "source": []
    },
    {
      "cell_type": "code",
      "source": [
        "%cd drive/MyDrive"
      ],
      "metadata": {
        "id": "ihZ4kprU97Qd",
        "colab": {
          "base_uri": "https://localhost:8080/"
        },
        "outputId": "efb3e81e-792b-4143-b000-c603e8b90f73"
      },
      "execution_count": 107,
      "outputs": [
        {
          "output_type": "stream",
          "name": "stdout",
          "text": [
            "[Errno 2] No such file or directory: 'drive/MyDrive'\n",
            "/content/drive/MyDrive\n"
          ]
        }
      ]
    },
    {
      "cell_type": "code",
      "source": [
        "#!unzip data.zip\n",
        "#%ls"
      ],
      "metadata": {
        "id": "KNsSS3iy3O8n"
      },
      "execution_count": 108,
      "outputs": []
    },
    {
      "cell_type": "code",
      "source": [
        "import os\n",
        "import cv2\n",
        "import tensorflow as tf\n",
        "import numpy as np\n",
        "from typing import List\n",
        "from matplotlib import pyplot as plt\n",
        "import imageio"
      ],
      "metadata": {
        "id": "HsBRFzez2Sf4"
      },
      "execution_count": 109,
      "outputs": []
    },
    {
      "cell_type": "code",
      "source": [
        "tf.config.list_physical_devices('GPU')"
      ],
      "metadata": {
        "colab": {
          "base_uri": "https://localhost:8080/"
        },
        "id": "2YcTUH2eax2E",
        "outputId": "285c6af5-41db-4e8c-dad8-5fa2c56d9139"
      },
      "execution_count": 110,
      "outputs": [
        {
          "output_type": "execute_result",
          "data": {
            "text/plain": [
              "[]"
            ]
          },
          "metadata": {},
          "execution_count": 110
        }
      ]
    },
    {
      "cell_type": "code",
      "source": [
        "physical_devices = tf.config.list_physical_devices('GPU')\n",
        "try:\n",
        "    tf.config.experimental.set_memory_growth(physical_devices[0], True)\n",
        "except:\n",
        "    pass\n"
      ],
      "metadata": {
        "id": "GwedgikdaqYw"
      },
      "execution_count": 111,
      "outputs": []
    },
    {
      "cell_type": "code",
      "source": [
        "def load_video(path:str) -> List[float]:\n",
        "\n",
        "    cap = cv2.VideoCapture(path)\n",
        "    frames = []\n",
        "    for _ in range(int(cap.get(cv2.CAP_PROP_FRAME_COUNT))):\n",
        "        ret, frame = cap.read()\n",
        "        frame = tf.image.rgb_to_grayscale(frame)\n",
        "        frames.append(frame[190:236,80:220,:])\n",
        "    cap.release()\n",
        "\n",
        "    mean = tf.math.reduce_mean(frames)\n",
        "    std = tf.math.reduce_std(tf.cast(frames, tf.float32))\n",
        "    return tf.cast((frames - mean), tf.float32) / std"
      ],
      "metadata": {
        "id": "BkfBxxa3a6G0"
      },
      "execution_count": 112,
      "outputs": []
    },
    {
      "cell_type": "code",
      "source": [
        "vocab = [x for x in \"abcdefghijklmnopqrstuvwxyz'?!123456789 \"]"
      ],
      "metadata": {
        "id": "y2ANBrCya7pY"
      },
      "execution_count": 113,
      "outputs": []
    },
    {
      "cell_type": "code",
      "source": [
        "char_to_num = tf.keras.layers.StringLookup(vocabulary=vocab, oov_token=\"\")\n",
        "num_to_char = tf.keras.layers.StringLookup(\n",
        "    vocabulary=char_to_num.get_vocabulary(), oov_token=\"\", invert=True\n",
        ")\n",
        "\n",
        "print(\n",
        "    f\"The vocabulary is: {char_to_num.get_vocabulary()} \"\n",
        "    f\"(size ={char_to_num.vocabulary_size()})\"\n",
        ")"
      ],
      "metadata": {
        "colab": {
          "base_uri": "https://localhost:8080/"
        },
        "id": "cddj6WmQbAeA",
        "outputId": "537dcb1a-86dc-4e63-9428-1976f5b491ab"
      },
      "execution_count": 114,
      "outputs": [
        {
          "output_type": "stream",
          "name": "stdout",
          "text": [
            "The vocabulary is: ['', 'a', 'b', 'c', 'd', 'e', 'f', 'g', 'h', 'i', 'j', 'k', 'l', 'm', 'n', 'o', 'p', 'q', 'r', 's', 't', 'u', 'v', 'w', 'x', 'y', 'z', \"'\", '?', '!', '1', '2', '3', '4', '5', '6', '7', '8', '9', ' '] (size =40)\n"
          ]
        }
      ]
    },
    {
      "cell_type": "code",
      "source": [
        "char_to_num.get_vocabulary()"
      ],
      "metadata": {
        "colab": {
          "base_uri": "https://localhost:8080/"
        },
        "id": "XTIiKfEpbCuW",
        "outputId": "8e7f2fb5-112a-4f15-93c4-be49e3bb6849"
      },
      "execution_count": 115,
      "outputs": [
        {
          "output_type": "execute_result",
          "data": {
            "text/plain": [
              "['',\n",
              " 'a',\n",
              " 'b',\n",
              " 'c',\n",
              " 'd',\n",
              " 'e',\n",
              " 'f',\n",
              " 'g',\n",
              " 'h',\n",
              " 'i',\n",
              " 'j',\n",
              " 'k',\n",
              " 'l',\n",
              " 'm',\n",
              " 'n',\n",
              " 'o',\n",
              " 'p',\n",
              " 'q',\n",
              " 'r',\n",
              " 's',\n",
              " 't',\n",
              " 'u',\n",
              " 'v',\n",
              " 'w',\n",
              " 'x',\n",
              " 'y',\n",
              " 'z',\n",
              " \"'\",\n",
              " '?',\n",
              " '!',\n",
              " '1',\n",
              " '2',\n",
              " '3',\n",
              " '4',\n",
              " '5',\n",
              " '6',\n",
              " '7',\n",
              " '8',\n",
              " '9',\n",
              " ' ']"
            ]
          },
          "metadata": {},
          "execution_count": 115
        }
      ]
    },
    {
      "cell_type": "code",
      "source": [
        "char_to_num(['n','i','c','k'])"
      ],
      "metadata": {
        "colab": {
          "base_uri": "https://localhost:8080/"
        },
        "id": "mVjN4BD9bGRl",
        "outputId": "1fcb1c3d-e0c3-4e68-9793-70e70b207b19"
      },
      "execution_count": 116,
      "outputs": [
        {
          "output_type": "execute_result",
          "data": {
            "text/plain": [
              "<tf.Tensor: shape=(4,), dtype=int64, numpy=array([14,  9,  3, 11])>"
            ]
          },
          "metadata": {},
          "execution_count": 116
        }
      ]
    },
    {
      "cell_type": "code",
      "source": [
        "def load_alignments(path:str) -> List[str]:\n",
        "    with open(path, 'r') as f:\n",
        "        lines = f.readlines()\n",
        "    tokens = []\n",
        "    for line in lines:\n",
        "        line = line.split()\n",
        "        if line[2] != 'sil':\n",
        "            tokens = [*tokens,' ',line[2]]\n",
        "    return char_to_num(tf.reshape(tf.strings.unicode_split(tokens, input_encoding='UTF-8'), (-1)))[1:]"
      ],
      "metadata": {
        "id": "uD2TP8y7bJh7"
      },
      "execution_count": 117,
      "outputs": []
    },
    {
      "cell_type": "code",
      "source": [
        "def load_data(path: str):\n",
        "    path = bytes.decode(path.numpy())\n",
        "    # File name splitting for windows\n",
        "    # file_name = path.split('\\\\')[-1].split('.')[0]\n",
        "    file_name = os.path.splitext(os.path.basename(path))[0]\n",
        "    video_path = os.path.join('/content/drive/MyDrive/data/s1', f'{file_name}.mpg')\n",
        "    # Construct alignment file path with the correct extension or naming convention\n",
        "    alignment_path = os.path.join('/content/drive/MyDrive/data/alignments/s1', f'{file_name}.align')\n",
        "\n",
        "    print(f\"Video path: {video_path}\")\n",
        "    print(f\"Alignment path: {alignment_path}\")\n",
        "\n",
        "    frames = load_video(video_path)\n",
        "    alignments = load_alignments(alignment_path)\n",
        "\n",
        "    return frames, alignments\n"
      ],
      "metadata": {
        "id": "zWCmgtHvGOrY"
      },
      "execution_count": 132,
      "outputs": []
    },
    {
      "cell_type": "code",
      "source": [
        "# test_path = '.\\\\data\\\\s1\\\\bbbf4s.mpg'"
      ],
      "metadata": {
        "id": "hGototYe4eR4"
      },
      "execution_count": 133,
      "outputs": []
    },
    {
      "cell_type": "code",
      "source": [
        "test_path = '/content/drive/MyDrive/data/s1/bbbf4s.mpg'"
      ],
      "metadata": {
        "id": "hNjsQv0GZ8WD"
      },
      "execution_count": 137,
      "outputs": []
    },
    {
      "cell_type": "code",
      "source": [
        "tf.convert_to_tensor(test_path).numpy().decode('utf-8').split('\\\\')[-1].split('.')[0]"
      ],
      "metadata": {
        "colab": {
          "base_uri": "https://localhost:8080/",
          "height": 35
        },
        "id": "TH5G3YeRwQ7e",
        "outputId": "5f6b2baa-5f36-450d-b818-7a5fd2190f52"
      },
      "execution_count": 138,
      "outputs": [
        {
          "output_type": "execute_result",
          "data": {
            "text/plain": [
              "'/content/drive/MyDrive/data/s1/bbbf4s'"
            ],
            "application/vnd.google.colaboratory.intrinsic+json": {
              "type": "string"
            }
          },
          "metadata": {},
          "execution_count": 138
        }
      ]
    },
    {
      "cell_type": "code",
      "source": [],
      "metadata": {
        "id": "Yrxz9d7f1SLq"
      },
      "execution_count": 120,
      "outputs": []
    },
    {
      "cell_type": "code",
      "source": [
        "frames, alignments = load_data(tf.convert_to_tensor(test_path))"
      ],
      "metadata": {
        "colab": {
          "base_uri": "https://localhost:8080/"
        },
        "id": "_XQdNf7jwSCC",
        "outputId": "e1c96124-108d-4226-c8f9-4b281ecd4389"
      },
      "execution_count": 139,
      "outputs": [
        {
          "output_type": "stream",
          "name": "stdout",
          "text": [
            "Video path: /content/drive/MyDrive/data/s1/bbbf4s.mpg\n",
            "Alignment path: /content/drive/MyDrive/data/alignments/s1/bbbf4s.align\n"
          ]
        }
      ]
    },
    {
      "cell_type": "code",
      "source": [],
      "metadata": {
        "id": "hu3QNJJF4KKR"
      },
      "execution_count": 121,
      "outputs": []
    },
    {
      "cell_type": "code",
      "source": [
        "plt.imshow(frames[40])"
      ],
      "metadata": {
        "colab": {
          "base_uri": "https://localhost:8080/",
          "height": 244
        },
        "id": "ONItd7OSbwzU",
        "outputId": "74ff356d-e728-4e3a-dcd5-8ecb4cd0a939"
      },
      "execution_count": 140,
      "outputs": [
        {
          "output_type": "execute_result",
          "data": {
            "text/plain": [
              "<matplotlib.image.AxesImage at 0x792d8c336f50>"
            ]
          },
          "metadata": {},
          "execution_count": 140
        },
        {
          "output_type": "display_data",
          "data": {
            "text/plain": [
              "<Figure size 640x480 with 1 Axes>"
            ],
            "image/png": "[encoded data removed]"
          },
          "metadata": {}
        }
      ]
    },
    {
      "cell_type": "code",
      "source": [
        "alignments"
      ],
      "metadata": {
        "colab": {
          "base_uri": "https://localhost:8080/"
        },
        "id": "hsILJnzTly89",
        "outputId": "ebd1b04e-769e-433e-e5c6-f309adb8bd49"
      },
      "execution_count": 141,
      "outputs": [
        {
          "output_type": "execute_result",
          "data": {
            "text/plain": [
              "<tf.Tensor: shape=(23,), dtype=int64, numpy=\n",
              "array([ 2,  9, 14, 39,  2, 12, 21,  5, 39,  2, 25, 39,  6, 39,  6, 15, 21,\n",
              "       18, 39, 19, 15, 15, 14])>"
            ]
          },
          "metadata": {},
          "execution_count": 141
        }
      ]
    },
    {
      "cell_type": "code",
      "source": [
        "tf.strings.reduce_join([bytes.decode(x) for x in num_to_char(alignments.numpy()).numpy()])"
      ],
      "metadata": {
        "colab": {
          "base_uri": "https://localhost:8080/"
        },
        "id": "U6AyYNeel1Qm",
        "outputId": "cdb84636-19f2-43b8-fbc8-3fe2ffbf489b"
      },
      "execution_count": 142,
      "outputs": [
        {
          "output_type": "execute_result",
          "data": {
            "text/plain": [
              "<tf.Tensor: shape=(), dtype=string, numpy=b'bin blue by f four soon'>"
            ]
          },
          "metadata": {},
          "execution_count": 142
        }
      ]
    },
    {
      "cell_type": "code",
      "source": [
        "def mappable_function(path:str) ->List[str]:\n",
        "    result = tf.py_function(load_data, [path], (tf.float32, tf.int64))\n",
        "    return result"
      ],
      "metadata": {
        "id": "az8cFe5Ml4Pv"
      },
      "execution_count": 143,
      "outputs": []
    },
    {
      "cell_type": "code",
      "source": [
        "from matplotlib import pyplot as plt"
      ],
      "metadata": {
        "id": "oNeIXaESl6w5"
      },
      "execution_count": 144,
      "outputs": []
    },
    {
      "cell_type": "code",
      "source": [
        "data = tf.data.Dataset.list_files('/content/drive/MyDrive/data/s1/*.mpg')\n",
        "data = data.shuffle(500, reshuffle_each_iteration=False)\n",
        "data = data.map(mappable_function)\n",
        "data = data.padded_batch(2, padded_shapes=([75,None,None,None],[40]))\n",
        "data = data.prefetch(tf.data.AUTOTUNE)\n",
        "# Added for split\n",
        "train = data.take(450)\n",
        "test = data.skip(450)"
      ],
      "metadata": {
        "id": "Wa5HUEAVl92n"
      },
      "execution_count": 145,
      "outputs": []
    },
    {
      "cell_type": "code",
      "source": [
        "# for file_path in data:\n",
        "#     print(file_path.numpy().decode('utf-8'))"
      ],
      "metadata": {
        "id": "rYE8EiQmPQoI"
      },
      "execution_count": 128,
      "outputs": []
    },
    {
      "cell_type": "code",
      "source": [
        "len(train)"
      ],
      "metadata": {
        "colab": {
          "base_uri": "https://localhost:8080/"
        },
        "id": "J5ikZEzb49C1",
        "outputId": "42beeb06-f45d-420f-ca74-d4bbe2fd6624"
      },
      "execution_count": 129,
      "outputs": [
        {
          "output_type": "execute_result",
          "data": {
            "text/plain": [
              "450"
            ]
          },
          "metadata": {},
          "execution_count": 129
        }
      ]
    },
    {
      "cell_type": "code",
      "source": [
        "len(test)"
      ],
      "metadata": {
        "colab": {
          "base_uri": "https://localhost:8080/"
        },
        "id": "zAEHp4zLmBON",
        "outputId": "a4c3e70c-bd90-4ead-fb5a-92e249c97fd9"
      },
      "execution_count": 130,
      "outputs": [
        {
          "output_type": "execute_result",
          "data": {
            "text/plain": [
              "4200"
            ]
          },
          "metadata": {},
          "execution_count": 130
        }
      ]
    },
    {
      "cell_type": "code",
      "source": [],
      "metadata": {
        "id": "4YBRCppCLbbH"
      },
      "execution_count": 130,
      "outputs": []
    },
    {
      "cell_type": "code",
      "source": [
        "frames, alignments = data.as_numpy_iterator().next()"
      ],
      "metadata": {
        "id": "B9OzVI9xmFJB",
        "outputId": "08e51daf-1676-4d37-a6e7-19c37849cc5a",
        "colab": {
          "base_uri": "https://localhost:8080/"
        }
      },
      "execution_count": 146,
      "outputs": [
        {
          "output_type": "stream",
          "name": "stdout",
          "text": [
            "Video path: /content/drive/MyDrive/data/s1/bbbj1p.mpg\n",
            "Alignment path: /content/drive/MyDrive/data/alignments/s1/bbbj1p.align\n",
            "Video path: /content/drive/MyDrive/data/s1/lbio7s.mpg\n",
            "Alignment path: /content/drive/MyDrive/data/alignments/s1/lbio7s.align\n"
          ]
        }
      ]
    },
    {
      "cell_type": "code",
      "source": [
        "len(frames)"
      ],
      "metadata": {
        "colab": {
          "base_uri": "https://localhost:8080/"
        },
        "id": "XKXSEE0AaJzX",
        "outputId": "e1c50bfd-aeb9-4090-b392-088fb3ccc8d3"
      },
      "execution_count": 147,
      "outputs": [
        {
          "output_type": "execute_result",
          "data": {
            "text/plain": [
              "2"
            ]
          },
          "metadata": {},
          "execution_count": 147
        }
      ]
    },
    {
      "cell_type": "code",
      "source": [
        "sample = data.as_numpy_iterator()"
      ],
      "metadata": {
        "id": "6Ev1gw8raOX6"
      },
      "execution_count": 148,
      "outputs": []
    },
    {
      "cell_type": "code",
      "source": [
        "val = sample.next(); val[0]"
      ],
      "metadata": {
        "colab": {
          "base_uri": "https://localhost:8080/"
        },
        "id": "qP_H5ZWmaRNn",
        "outputId": "004fc97e-e6a9-4cad-d1b3-868554fea4f7"
      },
      "execution_count": 149,
      "outputs": [
        {
          "output_type": "stream",
          "name": "stdout",
          "text": [
            "Video path: /content/drive/MyDrive/data/s1/bgiq6n.mpg\n",
            "Alignment path: /content/drive/MyDrive/data/alignments/s1/bgiq6n.align\n",
            "Video path: /content/drive/MyDrive/data/s1/brav7s.mpg\n",
            "Alignment path: /content/drive/MyDrive/data/alignments/s1/brav7s.align\n",
            "Video path: /content/drive/MyDrive/data/s1/bwae7n.mpg\n",
            "Alignment path: /content/drive/MyDrive/data/alignments/s1/bwae7n.align\n"
          ]
        },
        {
          "output_type": "execute_result",
          "data": {
            "text/plain": [
              "array([[[[[1.4712046 ],\n",
              "          [1.4712046 ],\n",
              "          [1.4712046 ],\n",
              "          ...,\n",
              "          [0.0576943 ],\n",
              "          [0.0576943 ],\n",
              "          [0.0576943 ]],\n",
              "\n",
              "         [[1.4712046 ],\n",
              "          [1.4712046 ],\n",
              "          [1.4712046 ],\n",
              "          ...,\n",
              "          [0.0576943 ],\n",
              "          [0.0576943 ],\n",
              "          [0.11538859]],\n",
              "\n",
              "         [[1.4423574 ],\n",
              "          [1.4423574 ],\n",
              "          [1.4423574 ],\n",
              "          ...,\n",
              "          [0.11538859],\n",
              "          [0.11538859],\n",
              "          [0.14423575]],\n",
              "\n",
              "         ...,\n",
              "\n",
              "         [[1.2692746 ],\n",
              "          [1.3269689 ],\n",
              "          [1.3269689 ],\n",
              "          ...,\n",
              "          [5.827124  ],\n",
              "          [5.5674996 ],\n",
              "          [5.3655696 ]],\n",
              "\n",
              "         [[1.2115803 ],\n",
              "          [1.2692746 ],\n",
              "          [1.2404274 ],\n",
              "          ...,\n",
              "          [5.740583  ],\n",
              "          [5.596347  ],\n",
              "          [5.394417  ]],\n",
              "\n",
              "         [[1.2115803 ],\n",
              "          [1.2692746 ],\n",
              "          [1.2404274 ],\n",
              "          ...,\n",
              "          [5.740583  ],\n",
              "          [5.6540413 ],\n",
              "          [5.423264  ]]],\n",
              "\n",
              "\n",
              "        [[[1.4135103 ],\n",
              "          [1.4135103 ],\n",
              "          [1.4135103 ],\n",
              "          ...,\n",
              "          [0.0576943 ],\n",
              "          [0.0576943 ],\n",
              "          [0.02884715]],\n",
              "\n",
              "         [[1.4135103 ],\n",
              "          [1.4135103 ],\n",
              "          [1.4135103 ],\n",
              "          ...,\n",
              "          [0.11538859],\n",
              "          [0.11538859],\n",
              "          [0.0576943 ]],\n",
              "\n",
              "         [[1.4135103 ],\n",
              "          [1.4135103 ],\n",
              "          [1.4135103 ],\n",
              "          ...,\n",
              "          [0.0576943 ],\n",
              "          [0.0576943 ],\n",
              "          [0.11538859]],\n",
              "\n",
              "         ...,\n",
              "\n",
              "         [[1.2404274 ],\n",
              "          [1.2981217 ],\n",
              "          [1.3269689 ],\n",
              "          ...,\n",
              "          [5.827124  ],\n",
              "          [5.596347  ],\n",
              "          [5.3655696 ]],\n",
              "\n",
              "         [[1.153886  ],\n",
              "          [1.2404274 ],\n",
              "          [1.2404274 ],\n",
              "          ...,\n",
              "          [5.740583  ],\n",
              "          [5.625194  ],\n",
              "          [5.394417  ]],\n",
              "\n",
              "         [[1.2115803 ],\n",
              "          [1.2692746 ],\n",
              "          [1.2115803 ],\n",
              "          ...,\n",
              "          [5.740583  ],\n",
              "          [5.7117357 ],\n",
              "          [5.394417  ]]],\n",
              "\n",
              "\n",
              "        [[[1.4712046 ],\n",
              "          [1.4712046 ],\n",
              "          [1.4712046 ],\n",
              "          ...,\n",
              "          [0.0576943 ],\n",
              "          [0.0576943 ],\n",
              "          [0.0576943 ]],\n",
              "\n",
              "         [[1.4712046 ],\n",
              "          [1.4712046 ],\n",
              "          [1.4712046 ],\n",
              "          ...,\n",
              "          [0.0576943 ],\n",
              "          [0.11538859],\n",
              "          [0.11538859]],\n",
              "\n",
              "         [[1.4135103 ],\n",
              "          [1.4135103 ],\n",
              "          [1.4135103 ],\n",
              "          ...,\n",
              "          [0.0576943 ],\n",
              "          [0.11538859],\n",
              "          [0.11538859]],\n",
              "\n",
              "         ...,\n",
              "\n",
              "         [[1.2404274 ],\n",
              "          [1.2692746 ],\n",
              "          [1.3269689 ],\n",
              "          ...,\n",
              "          [5.827124  ],\n",
              "          [5.596347  ],\n",
              "          [5.336723  ]],\n",
              "\n",
              "         [[1.2115803 ],\n",
              "          [1.2692746 ],\n",
              "          [1.2692746 ],\n",
              "          ...,\n",
              "          [5.7694297 ],\n",
              "          [5.6540413 ],\n",
              "          [5.394417  ]],\n",
              "\n",
              "         [[1.153886  ],\n",
              "          [1.2981217 ],\n",
              "          [1.2404274 ],\n",
              "          ...,\n",
              "          [5.740583  ],\n",
              "          [5.7117357 ],\n",
              "          [5.3655696 ]]],\n",
              "\n",
              "\n",
              "        ...,\n",
              "\n",
              "\n",
              "        [[[1.4712046 ],\n",
              "          [1.4423574 ],\n",
              "          [1.4423574 ],\n",
              "          ...,\n",
              "          [0.08654145],\n",
              "          [0.11538859],\n",
              "          [0.14423575]],\n",
              "\n",
              "         [[1.4712046 ],\n",
              "          [1.4423574 ],\n",
              "          [1.4423574 ],\n",
              "          ...,\n",
              "          [0.08654145],\n",
              "          [0.11538859],\n",
              "          [0.14423575]],\n",
              "\n",
              "         [[1.3846632 ],\n",
              "          [1.3846632 ],\n",
              "          [1.3846632 ],\n",
              "          ...,\n",
              "          [0.02884715],\n",
              "          [0.0576943 ],\n",
              "          [0.11538859]],\n",
              "\n",
              "         ...,\n",
              "\n",
              "         [[1.2981217 ],\n",
              "          [1.3269689 ],\n",
              "          [1.355816  ],\n",
              "          ...,\n",
              "          [5.4809585 ],\n",
              "          [5.192487  ],\n",
              "          [4.9328628 ]],\n",
              "\n",
              "         [[1.2981217 ],\n",
              "          [1.3269689 ],\n",
              "          [1.355816  ],\n",
              "          ...,\n",
              "          [5.538653  ],\n",
              "          [5.1636395 ],\n",
              "          [4.9328628 ]],\n",
              "\n",
              "         [[1.2692746 ],\n",
              "          [1.2692746 ],\n",
              "          [1.3269689 ],\n",
              "          ...,\n",
              "          [5.538653  ],\n",
              "          [5.134793  ],\n",
              "          [4.9040155 ]]],\n",
              "\n",
              "\n",
              "        [[[1.4712046 ],\n",
              "          [1.4712046 ],\n",
              "          [1.4712046 ],\n",
              "          ...,\n",
              "          [0.0576943 ],\n",
              "          [0.11538859],\n",
              "          [0.14423575]],\n",
              "\n",
              "         [[1.4135103 ],\n",
              "          [1.4135103 ],\n",
              "          [1.4135103 ],\n",
              "          ...,\n",
              "          [0.0576943 ],\n",
              "          [0.11538859],\n",
              "          [0.14423575]],\n",
              "\n",
              "         [[1.4423574 ],\n",
              "          [1.4135103 ],\n",
              "          [1.4135103 ],\n",
              "          ...,\n",
              "          [0.02884715],\n",
              "          [0.0576943 ],\n",
              "          [0.11538859]],\n",
              "\n",
              "         ...,\n",
              "\n",
              "         [[1.1827332 ],\n",
              "          [1.355816  ],\n",
              "          [1.4135103 ],\n",
              "          ...,\n",
              "          [5.4809585 ],\n",
              "          [5.3655696 ],\n",
              "          [4.9617095 ]],\n",
              "\n",
              "         [[1.1827332 ],\n",
              "          [1.3269689 ],\n",
              "          [1.4423574 ],\n",
              "          ...,\n",
              "          [5.4809585 ],\n",
              "          [5.221334  ],\n",
              "          [4.9040155 ]],\n",
              "\n",
              "         [[1.2404274 ],\n",
              "          [1.2404274 ],\n",
              "          [1.2981217 ],\n",
              "          ...,\n",
              "          [5.4521112 ],\n",
              "          [5.1636395 ],\n",
              "          [4.846321  ]]],\n",
              "\n",
              "\n",
              "        [[[1.4712046 ],\n",
              "          [1.4712046 ],\n",
              "          [1.4712046 ],\n",
              "          ...,\n",
              "          [0.0576943 ],\n",
              "          [0.11538859],\n",
              "          [0.14423575]],\n",
              "\n",
              "         [[1.4135103 ],\n",
              "          [1.4135103 ],\n",
              "          [1.4135103 ],\n",
              "          ...,\n",
              "          [0.0576943 ],\n",
              "          [0.0576943 ],\n",
              "          [0.11538859]],\n",
              "\n",
              "         [[1.4423574 ],\n",
              "          [1.4423574 ],\n",
              "          [1.4423574 ],\n",
              "          ...,\n",
              "          [0.02884715],\n",
              "          [0.0576943 ],\n",
              "          [0.11538859]],\n",
              "\n",
              "         ...,\n",
              "\n",
              "         [[1.2115803 ],\n",
              "          [1.355816  ],\n",
              "          [1.4135103 ],\n",
              "          ...,\n",
              "          [5.4521112 ],\n",
              "          [5.250181  ],\n",
              "          [4.9617095 ]],\n",
              "\n",
              "         [[1.1250389 ],\n",
              "          [1.2981217 ],\n",
              "          [1.4135103 ],\n",
              "          ...,\n",
              "          [5.4809585 ],\n",
              "          [5.192487  ],\n",
              "          [4.9328628 ]],\n",
              "\n",
              "         [[1.2404274 ],\n",
              "          [1.2404274 ],\n",
              "          [1.2981217 ],\n",
              "          ...,\n",
              "          [5.423264  ],\n",
              "          [5.134793  ],\n",
              "          [4.8751683 ]]]],\n",
              "\n",
              "\n",
              "\n",
              "       [[[[1.2433375 ],\n",
              "          [1.2433375 ],\n",
              "          [1.2433375 ],\n",
              "          ...,\n",
              "          [0.10970625],\n",
              "          [0.03656875],\n",
              "          [0.        ]],\n",
              "\n",
              "         [[1.2433375 ],\n",
              "          [1.2433375 ],\n",
              "          [1.2433375 ],\n",
              "          ...,\n",
              "          [0.10970625],\n",
              "          [0.10970625],\n",
              "          [0.03656875]],\n",
              "\n",
              "         [[1.1336312 ],\n",
              "          [1.1336312 ],\n",
              "          [1.1336312 ],\n",
              "          ...,\n",
              "          [0.18284374],\n",
              "          [0.18284374],\n",
              "          [0.146275  ]],\n",
              "\n",
              "         ...,\n",
              "\n",
              "         [[0.6948063 ],\n",
              "          [0.6948063 ],\n",
              "          [0.6948063 ],\n",
              "          ...,\n",
              "          [8.849638  ],\n",
              "          [8.703362  ],\n",
              "          [8.593657  ]],\n",
              "\n",
              "         [[0.6948063 ],\n",
              "          [0.6948063 ],\n",
              "          [0.6948063 ],\n",
              "          ...,\n",
              "          [8.739931  ],\n",
              "          [8.593657  ],\n",
              "          [8.520519  ]],\n",
              "\n",
              "         [[0.6948063 ],\n",
              "          [0.6948063 ],\n",
              "          [0.6948063 ],\n",
              "          ...,\n",
              "          [8.666794  ],\n",
              "          [8.520519  ],\n",
              "          [8.410812  ]]],\n",
              "\n",
              "\n",
              "        [[[1.1336312 ],\n",
              "          [1.1336312 ],\n",
              "          [1.1336312 ],\n",
              "          ...,\n",
              "          [0.0731375 ],\n",
              "          [0.0731375 ],\n",
              "          [0.        ]],\n",
              "\n",
              "         [[1.1336312 ],\n",
              "          [1.1336312 ],\n",
              "          [1.1336312 ],\n",
              "          ...,\n",
              "          [0.10970625],\n",
              "          [0.10970625],\n",
              "          [0.0731375 ]],\n",
              "\n",
              "         [[1.1336312 ],\n",
              "          [1.1336312 ],\n",
              "          [1.1336312 ],\n",
              "          ...,\n",
              "          [0.29255   ],\n",
              "          [0.25598124],\n",
              "          [0.18284374]],\n",
              "\n",
              "         ...,\n",
              "\n",
              "         [[0.6582375 ],\n",
              "          [0.6582375 ],\n",
              "          [0.6582375 ],\n",
              "          ...,\n",
              "          [8.813068  ],\n",
              "          [8.739931  ],\n",
              "          [8.557088  ]],\n",
              "\n",
              "         [[0.6582375 ],\n",
              "          [0.6582375 ],\n",
              "          [0.6582375 ],\n",
              "          ...,\n",
              "          [8.7765    ],\n",
              "          [8.593657  ],\n",
              "          [8.374244  ]],\n",
              "\n",
              "         [[0.6582375 ],\n",
              "          [0.6582375 ],\n",
              "          [0.6582375 ],\n",
              "          ...,\n",
              "          [8.703362  ],\n",
              "          [8.520519  ],\n",
              "          [8.337675  ]]],\n",
              "\n",
              "\n",
              "        [[[1.1702    ],\n",
              "          [1.1702    ],\n",
              "          [1.1702    ],\n",
              "          ...,\n",
              "          [0.10970625],\n",
              "          [0.10970625],\n",
              "          [0.03656875]],\n",
              "\n",
              "         [[1.1702    ],\n",
              "          [1.1702    ],\n",
              "          [1.1702    ],\n",
              "          ...,\n",
              "          [0.146275  ],\n",
              "          [0.146275  ],\n",
              "          [0.10970625]],\n",
              "\n",
              "         [[1.1702    ],\n",
              "          [1.1702    ],\n",
              "          [1.1702    ],\n",
              "          ...,\n",
              "          [0.2194125 ],\n",
              "          [0.18284374],\n",
              "          [0.146275  ]],\n",
              "\n",
              "         ...,\n",
              "\n",
              "         [[0.6582375 ],\n",
              "          [0.6582375 ],\n",
              "          [0.6582375 ],\n",
              "          ...,\n",
              "          [8.7765    ],\n",
              "          [8.739931  ],\n",
              "          [8.739931  ]],\n",
              "\n",
              "         [[0.6582375 ],\n",
              "          [0.6582375 ],\n",
              "          [0.6582375 ],\n",
              "          ...,\n",
              "          [8.7765    ],\n",
              "          [8.703362  ],\n",
              "          [8.557088  ]],\n",
              "\n",
              "         [[0.6582375 ],\n",
              "          [0.6582375 ],\n",
              "          [0.6582375 ],\n",
              "          ...,\n",
              "          [8.813068  ],\n",
              "          [8.630225  ],\n",
              "          [8.374244  ]]],\n",
              "\n",
              "\n",
              "        ...,\n",
              "\n",
              "\n",
              "        [[[1.2067688 ],\n",
              "          [1.2067688 ],\n",
              "          [1.2067688 ],\n",
              "          ...,\n",
              "          [0.        ],\n",
              "          [9.325031  ],\n",
              "          [9.288463  ]],\n",
              "\n",
              "         [[1.1702    ],\n",
              "          [1.1702    ],\n",
              "          [1.1702    ],\n",
              "          ...,\n",
              "          [0.        ],\n",
              "          [0.        ],\n",
              "          [9.325031  ]],\n",
              "\n",
              "         [[1.1702    ],\n",
              "          [1.1702    ],\n",
              "          [1.1702    ],\n",
              "          ...,\n",
              "          [0.2194125 ],\n",
              "          [0.18284374],\n",
              "          [0.18284374]],\n",
              "\n",
              "         ...,\n",
              "\n",
              "         [[0.6582375 ],\n",
              "          [0.6582375 ],\n",
              "          [0.6582375 ],\n",
              "          ...,\n",
              "          [8.813068  ],\n",
              "          [8.7765    ],\n",
              "          [8.630225  ]],\n",
              "\n",
              "         [[0.6582375 ],\n",
              "          [0.6582375 ],\n",
              "          [0.6582375 ],\n",
              "          ...,\n",
              "          [8.7765    ],\n",
              "          [8.666794  ],\n",
              "          [8.520519  ]],\n",
              "\n",
              "         [[0.6582375 ],\n",
              "          [0.6582375 ],\n",
              "          [0.6582375 ],\n",
              "          ...,\n",
              "          [8.630225  ],\n",
              "          [8.557088  ],\n",
              "          [8.48395   ]]],\n",
              "\n",
              "\n",
              "        [[[1.2067688 ],\n",
              "          [1.2067688 ],\n",
              "          [1.2067688 ],\n",
              "          ...,\n",
              "          [0.        ],\n",
              "          [9.325031  ],\n",
              "          [9.288463  ]],\n",
              "\n",
              "         [[1.1702    ],\n",
              "          [1.1702    ],\n",
              "          [1.1702    ],\n",
              "          ...,\n",
              "          [0.        ],\n",
              "          [0.        ],\n",
              "          [9.325031  ]],\n",
              "\n",
              "         [[1.1702    ],\n",
              "          [1.1702    ],\n",
              "          [1.1702    ],\n",
              "          ...,\n",
              "          [0.2194125 ],\n",
              "          [0.146275  ],\n",
              "          [0.146275  ]],\n",
              "\n",
              "         ...,\n",
              "\n",
              "         [[0.6582375 ],\n",
              "          [0.6582375 ],\n",
              "          [0.6582375 ],\n",
              "          ...,\n",
              "          [8.813068  ],\n",
              "          [8.7765    ],\n",
              "          [8.666794  ]],\n",
              "\n",
              "         [[0.6582375 ],\n",
              "          [0.6582375 ],\n",
              "          [0.6582375 ],\n",
              "          ...,\n",
              "          [8.7765    ],\n",
              "          [8.666794  ],\n",
              "          [8.557088  ]],\n",
              "\n",
              "         [[0.6582375 ],\n",
              "          [0.6582375 ],\n",
              "          [0.6582375 ],\n",
              "          ...,\n",
              "          [8.666794  ],\n",
              "          [8.557088  ],\n",
              "          [8.48395   ]]],\n",
              "\n",
              "\n",
              "        [[[1.2067688 ],\n",
              "          [1.2067688 ],\n",
              "          [1.2067688 ],\n",
              "          ...,\n",
              "          [0.10970625],\n",
              "          [0.03656875],\n",
              "          [0.        ]],\n",
              "\n",
              "         [[1.1702    ],\n",
              "          [1.1702    ],\n",
              "          [1.1702    ],\n",
              "          ...,\n",
              "          [0.10970625],\n",
              "          [0.10970625],\n",
              "          [0.03656875]],\n",
              "\n",
              "         [[1.1702    ],\n",
              "          [1.1702    ],\n",
              "          [1.1702    ],\n",
              "          ...,\n",
              "          [0.2194125 ],\n",
              "          [0.146275  ],\n",
              "          [0.10970625]],\n",
              "\n",
              "         ...,\n",
              "\n",
              "         [[0.6582375 ],\n",
              "          [0.6582375 ],\n",
              "          [0.6582375 ],\n",
              "          ...,\n",
              "          [8.813068  ],\n",
              "          [8.7765    ],\n",
              "          [8.739931  ]],\n",
              "\n",
              "         [[0.6582375 ],\n",
              "          [0.6582375 ],\n",
              "          [0.6582375 ],\n",
              "          ...,\n",
              "          [8.813068  ],\n",
              "          [8.739931  ],\n",
              "          [8.557088  ]],\n",
              "\n",
              "         [[0.6582375 ],\n",
              "          [0.6582375 ],\n",
              "          [0.6582375 ],\n",
              "          ...,\n",
              "          [8.7765    ],\n",
              "          [8.593657  ],\n",
              "          [8.410812  ]]]]], dtype=float32)"
            ]
          },
          "metadata": {},
          "execution_count": 149
        }
      ]
    },
    {
      "cell_type": "code",
      "source": [
        "fv = (val[0][1].astype(np.uint8) * 255).squeeze()\n",
        "imageio.mimsave('./animation.gif', fv, duration=100)"
      ],
      "metadata": {
        "id": "i-Ip_dhXaTR2"
      },
      "execution_count": 150,
      "outputs": []
    },
    {
      "cell_type": "code",
      "source": [
        "# 0:videos, 0: 1st video out of the batch,  0: return the first frame in the video\n",
        "plt.imshow(val[0][0][35])"
      ],
      "metadata": {
        "colab": {
          "base_uri": "https://localhost:8080/",
          "height": 244
        },
        "id": "2gSZ5RAYaYaR",
        "outputId": "7289d180-29c7-4392-c3d4-334dd13cddfc"
      },
      "execution_count": 151,
      "outputs": [
        {
          "output_type": "execute_result",
          "data": {
            "text/plain": [
              "<matplotlib.image.AxesImage at 0x792d94305360>"
            ]
          },
          "metadata": {},
          "execution_count": 151
        },
        {
          "output_type": "display_data",
          "data": {
            "text/plain": [
              "<Figure size 640x480 with 1 Axes>"
            ],
            "image/png": "[encoded data removed]"
          },
          "metadata": {}
        }
      ]
    },
    {
      "cell_type": "code",
      "source": [
        "tf.strings.reduce_join([num_to_char(word) for word in val[1][0]])"
      ],
      "metadata": {
        "colab": {
          "base_uri": "https://localhost:8080/"
        },
        "id": "_rB7Eo51abE5",
        "outputId": "63bfacba-f39d-4427-e93f-d831c872dbaa"
      },
      "execution_count": 152,
      "outputs": [
        {
          "output_type": "execute_result",
          "data": {
            "text/plain": [
              "<tf.Tensor: shape=(), dtype=string, numpy=b'bin green in q six now'>"
            ]
          },
          "metadata": {},
          "execution_count": 152
        }
      ]
    },
    {
      "cell_type": "code",
      "source": [
        "from tensorflow.keras.models import Sequential\n",
        "from tensorflow.keras.layers import Conv3D, LSTM, Dense, Dropout, Bidirectional, MaxPool3D, Activation, Reshape, SpatialDropout3D, BatchNormalization, TimeDistributed, Flatten\n",
        "from tensorflow.keras.optimizers import Adam\n",
        "from tensorflow.keras.callbacks import ModelCheckpoint, LearningRateScheduler\n"
      ],
      "metadata": {
        "id": "8Yh6X_97aej1"
      },
      "execution_count": 153,
      "outputs": []
    },
    {
      "cell_type": "code",
      "source": [
        "data.as_numpy_iterator().next()[0][0].shape"
      ],
      "metadata": {
        "colab": {
          "base_uri": "https://localhost:8080/"
        },
        "id": "1uVbNo5JahDJ",
        "outputId": "3426abf7-da8e-4745-b27d-333d80a9127a"
      },
      "execution_count": 154,
      "outputs": [
        {
          "output_type": "stream",
          "name": "stdout",
          "text": [
            "Video path: /content/drive/MyDrive/data/s1/lbij6n.mpg\n",
            "Alignment path: /content/drive/MyDrive/data/alignments/s1/lbij6n.align\n",
            "Video path: /content/drive/MyDrive/data/s1/bbwz7a.mpg\n",
            "Alignment path: /content/drive/MyDrive/data/alignments/s1/bbwz7a.align\n",
            "Video path: /content/drive/MyDrive/data/s1/bgwn2a.mpg\n",
            "Alignment path: /content/drive/MyDrive/data/alignments/s1/bgwn2a.align\n"
          ]
        },
        {
          "output_type": "execute_result",
          "data": {
            "text/plain": [
              "(75, 46, 140, 1)"
            ]
          },
          "metadata": {},
          "execution_count": 154
        }
      ]
    },
    {
      "cell_type": "code",
      "source": [
        "model = Sequential()\n",
        "model.add(Conv3D(128, 3, input_shape=(75,46,140,1), padding='same'))\n",
        "model.add(Activation('relu'))\n",
        "model.add(MaxPool3D((1,2,2)))\n",
        "\n",
        "model.add(Conv3D(256, 3, padding='same'))\n",
        "model.add(Activation('relu'))\n",
        "model.add(MaxPool3D((1,2,2)))\n",
        "\n",
        "model.add(Conv3D(75, 3, padding='same'))\n",
        "model.add(Activation('relu'))\n",
        "model.add(MaxPool3D((1,2,2)))\n",
        "\n",
        "model.add(TimeDistributed(Flatten()))\n",
        "\n",
        "model.add(Bidirectional(LSTM(128, kernel_initializer='Orthogonal', return_sequences=True)))\n",
        "model.add(Dropout(.5))\n",
        "\n",
        "model.add(Bidirectional(LSTM(128, kernel_initializer='Orthogonal', return_sequences=True)))\n",
        "model.add(Dropout(.5))\n",
        "\n",
        "model.add(Dense(char_to_num.vocabulary_size()+1, kernel_initializer='he_normal', activation='softmax'))"
      ],
      "metadata": {
        "id": "fDJH2_BUajNh"
      },
      "execution_count": 155,
      "outputs": []
    },
    {
      "cell_type": "code",
      "source": [
        "model.summary()"
      ],
      "metadata": {
        "colab": {
          "base_uri": "https://localhost:8080/"
        },
        "id": "PvRCm_bzamnN",
        "outputId": "d62dcb25-4513-4924-c5d4-b6659506f151"
      },
      "execution_count": 156,
      "outputs": [
        {
          "output_type": "stream",
          "name": "stdout",
          "text": [
            "Model: \"sequential\"\n",
            "_________________________________________________________________\n",
            " Layer (type)                Output Shape              Param #   \n",
            "=================================================================\n",
            " conv3d (Conv3D)             (None, 75, 46, 140, 128   3584      \n",
            "                             )                                   \n",
            "                                                                 \n",
            " activation (Activation)     (None, 75, 46, 140, 128   0         \n",
            "                             )                                   \n",
            "                                                                 \n",
            " max_pooling3d (MaxPooling3  (None, 75, 23, 70, 128)   0         \n",
            " D)                                                              \n",
            "                                                                 \n",
            " conv3d_1 (Conv3D)           (None, 75, 23, 70, 256)   884992    \n",
            "                                                                 \n",
            " activation_1 (Activation)   (None, 75, 23, 70, 256)   0         \n",
            "                                                                 \n",
            " max_pooling3d_1 (MaxPoolin  (None, 75, 11, 35, 256)   0         \n",
            " g3D)                                                            \n",
            "                                                                 \n",
            " conv3d_2 (Conv3D)           (None, 75, 11, 35, 75)    518475    \n",
            "                                                                 \n",
            " activation_2 (Activation)   (None, 75, 11, 35, 75)    0         \n",
            "                                                                 \n",
            " max_pooling3d_2 (MaxPoolin  (None, 75, 5, 17, 75)     0         \n",
            " g3D)                                                            \n",
            "                                                                 \n",
            " time_distributed (TimeDist  (None, 75, 6375)          0         \n",
            " ributed)                                                        \n",
            "                                                                 \n",
            " bidirectional (Bidirection  (None, 75, 256)           6660096   \n",
            " al)                                                             \n",
            "                                                                 \n",
            " dropout (Dropout)           (None, 75, 256)           0         \n",
            "                                                                 \n",
            " bidirectional_1 (Bidirecti  (None, 75, 256)           394240    \n",
            " onal)                                                           \n",
            "                                                                 \n",
            " dropout_1 (Dropout)         (None, 75, 256)           0         \n",
            "                                                                 \n",
            " dense (Dense)               (None, 75, 41)            10537     \n",
            "                                                                 \n",
            "=================================================================\n",
            "Total params: 8471924 (32.32 MB)\n",
            "Trainable params: 8471924 (32.32 MB)\n",
            "Non-trainable params: 0 (0.00 Byte)\n",
            "_________________________________________________________________\n"
          ]
        }
      ]
    },
    {
      "cell_type": "code",
      "source": [
        "5*17*75"
      ],
      "metadata": {
        "colab": {
          "base_uri": "https://localhost:8080/"
        },
        "id": "L4Uw34LsapY5",
        "outputId": "32d3a8c1-e04e-46f1-8373-099781e6c3b4"
      },
      "execution_count": 157,
      "outputs": [
        {
          "output_type": "execute_result",
          "data": {
            "text/plain": [
              "6375"
            ]
          },
          "metadata": {},
          "execution_count": 157
        }
      ]
    },
    {
      "cell_type": "code",
      "source": [
        "yhat = model.predict(val[0])"
      ],
      "metadata": {
        "colab": {
          "base_uri": "https://localhost:8080/"
        },
        "id": "_U_yAzvZaslK",
        "outputId": "43a454e2-b731-44ad-c362-1cf756202906"
      },
      "execution_count": 158,
      "outputs": [
        {
          "output_type": "stream",
          "name": "stdout",
          "text": [
            "1/1 [==============================] - 14s 14s/step\n"
          ]
        }
      ]
    },
    {
      "cell_type": "code",
      "source": [
        "tf.strings.reduce_join([num_to_char(x) for x in tf.argmax(yhat[0],axis=1)])"
      ],
      "metadata": {
        "colab": {
          "base_uri": "https://localhost:8080/"
        },
        "id": "0cz2MqHXaueM",
        "outputId": "30fb5cdd-494c-45d5-8615-4cdbb3bda709"
      },
      "execution_count": 159,
      "outputs": [
        {
          "output_type": "execute_result",
          "data": {
            "text/plain": [
              "<tf.Tensor: shape=(), dtype=string, numpy=b'44444kkkkkkkkkkkkkkkkkkkkkkkkkkkkkkkkkkkkkkkkkkkkkkkkkkkjjjjjjjjjjjjjjjjwww'>"
            ]
          },
          "metadata": {},
          "execution_count": 159
        }
      ]
    },
    {
      "cell_type": "code",
      "source": [
        "tf.strings.reduce_join([num_to_char(tf.argmax(x)) for x in yhat[0]])"
      ],
      "metadata": {
        "colab": {
          "base_uri": "https://localhost:8080/"
        },
        "id": "zR5QGgkSax8P",
        "outputId": "8c6edc73-6ce5-47fc-c009-9f442168e032"
      },
      "execution_count": 160,
      "outputs": [
        {
          "output_type": "execute_result",
          "data": {
            "text/plain": [
              "<tf.Tensor: shape=(), dtype=string, numpy=b'44444kkkkkkkkkkkkkkkkkkkkkkkkkkkkkkkkkkkkkkkkkkkkkkkkkkkjjjjjjjjjjjjjjjjwww'>"
            ]
          },
          "metadata": {},
          "execution_count": 160
        }
      ]
    },
    {
      "cell_type": "code",
      "source": [
        "model.input_shape"
      ],
      "metadata": {
        "colab": {
          "base_uri": "https://localhost:8080/"
        },
        "id": "kbD6EtG-a1A-",
        "outputId": "a55d3163-b201-47d8-bd2b-6adf37e8542e"
      },
      "execution_count": 161,
      "outputs": [
        {
          "output_type": "execute_result",
          "data": {
            "text/plain": [
              "(None, 75, 46, 140, 1)"
            ]
          },
          "metadata": {},
          "execution_count": 161
        }
      ]
    },
    {
      "cell_type": "code",
      "source": [
        "model.output_shape"
      ],
      "metadata": {
        "colab": {
          "base_uri": "https://localhost:8080/"
        },
        "id": "VAtc1cOPa3I6",
        "outputId": "a287fe46-bc38-464c-dbe7-6997bb36101e"
      },
      "execution_count": 162,
      "outputs": [
        {
          "output_type": "execute_result",
          "data": {
            "text/plain": [
              "(None, 75, 41)"
            ]
          },
          "metadata": {},
          "execution_count": 162
        }
      ]
    },
    {
      "cell_type": "code",
      "source": [
        "def scheduler(epoch, lr):\n",
        "    if epoch < 30:\n",
        "        return lr\n",
        "    else:\n",
        "        return lr * tf.math.exp(-0.1)"
      ],
      "metadata": {
        "id": "JmqCIt8xa5Pw"
      },
      "execution_count": 163,
      "outputs": []
    },
    {
      "cell_type": "code",
      "source": [
        "def CTCLoss(y_true, y_pred):\n",
        "    batch_len = tf.cast(tf.shape(y_true)[0], dtype=\"int64\")\n",
        "    input_length = tf.cast(tf.shape(y_pred)[1], dtype=\"int64\")\n",
        "    label_length = tf.cast(tf.shape(y_true)[1], dtype=\"int64\")\n",
        "\n",
        "    input_length = input_length * tf.ones(shape=(batch_len, 1), dtype=\"int64\")\n",
        "    label_length = label_length * tf.ones(shape=(batch_len, 1), dtype=\"int64\")\n",
        "\n",
        "    loss = tf.keras.backend.ctc_batch_cost(y_true, y_pred, input_length, label_length)\n",
        "    return loss"
      ],
      "metadata": {
        "id": "eZoQLVqta7M_"
      },
      "execution_count": 164,
      "outputs": []
    },
    {
      "cell_type": "code",
      "source": [
        "class ProduceExample(tf.keras.callbacks.Callback):\n",
        "    def __init__(self, dataset) -> None:\n",
        "        self.dataset = dataset.as_numpy_iterator()\n",
        "\n",
        "    def on_epoch_end(self, epoch, logs=None) -> None:\n",
        "        data = self.dataset.next()\n",
        "        yhat = self.model.predict(data[0])\n",
        "        decoded = tf.keras.backend.ctc_decode(yhat, [75,75], greedy=False)[0][0].numpy()\n",
        "        for x in range(len(yhat)):\n",
        "            print('Original:', tf.strings.reduce_join(num_to_char(data[1][x])).numpy().decode('utf-8'))\n",
        "            print('Prediction:', tf.strings.reduce_join(num_to_char(decoded[x])).numpy().decode('utf-8'))\n",
        "            print('~'*100)"
      ],
      "metadata": {
        "id": "eXNslfIxa9mD"
      },
      "execution_count": 165,
      "outputs": []
    },
    {
      "cell_type": "code",
      "source": [
        "model.compile(optimizer=tf.keras.optimizers.legacy.Adam(learning_rate=0.0001), loss=CTCLoss)"
      ],
      "metadata": {
        "id": "B7y3vAxTa_n9"
      },
      "execution_count": 166,
      "outputs": []
    },
    {
      "cell_type": "code",
      "source": [
        "checkpoint_callback = ModelCheckpoint('models/checkpoint', monitor='loss', save_weights_only=True)"
      ],
      "metadata": {
        "id": "5lGas2OPbCWN"
      },
      "execution_count": 167,
      "outputs": []
    },
    {
      "cell_type": "code",
      "source": [
        "schedule_callback = LearningRateScheduler(scheduler)"
      ],
      "metadata": {
        "id": "Hgoi8_5DbFDu"
      },
      "execution_count": 168,
      "outputs": []
    },
    {
      "cell_type": "code",
      "source": [
        "example_callback = ProduceExample(test)\n"
      ],
      "metadata": {
        "id": "oQUewtk7bH6R"
      },
      "execution_count": 169,
      "outputs": []
    },
    {
      "cell_type": "code",
      "source": [
        "#model.fit(train, validation_data=test, epochs=100, callbacks=[checkpoint_callback, schedule_callback, example_callback])"
      ],
      "metadata": {
        "id": "aj4KzpnvbLma"
      },
      "execution_count": null,
      "outputs": []
    }
  ]
}